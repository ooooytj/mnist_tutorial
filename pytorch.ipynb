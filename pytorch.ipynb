{
 "cells": [
  {
   "cell_type": "markdown",
   "metadata": {},
   "source": [
    "# Pytorch Tutorial"
   ]
  },
  {
   "cell_type": "markdown",
   "metadata": {},
   "source": [
    "Pytorch is a popular deep learning framework and it's easy to get started."
   ]
  },
  {
   "cell_type": "code",
   "execution_count": 2,
   "metadata": {},
   "outputs": [],
   "source": [
    "import torch\n",
    "import torch.nn as nn\n",
    "import torch.utils.data as data\n",
    "import torchvision\n",
    "import torchvision.transforms as transforms\n",
    "import torch.nn.functional as F\n",
    "from tqdm import tqdm\n",
    "import time\n",
    "\n",
    "BATCH_SIZE = 128\n",
    "NUM_EPOCHS = 10"
   ]
  },
  {
   "cell_type": "markdown",
   "metadata": {},
   "source": [
    "First, we read the mnist data, preprocess them and encapsulate them into dataloader form."
   ]
  },
  {
   "cell_type": "code",
   "execution_count": 3,
   "metadata": {},
   "outputs": [],
   "source": [
    "# preprocessing\n",
    "normalize = transforms.Normalize(mean=[.5], std=[.5])\n",
    "transform = transforms.Compose([transforms.ToTensor(), normalize])\n",
    "\n",
    "# download and load the data\n",
    "train_dataset = torchvision.datasets.MNIST(root='./mnist/', train=True, transform=transform, download=True)\n",
    "test_dataset = torchvision.datasets.MNIST(root='./mnist/', train=False, transform=transform, download=False)\n",
    "\n",
    "# encapsulate them into dataloader form\n",
    "train_loader = data.DataLoader(train_dataset, batch_size=BATCH_SIZE, shuffle=True, drop_last=False)\n",
    "test_loader = data.DataLoader(test_dataset, batch_size=BATCH_SIZE, shuffle=False, drop_last=False)"
   ]
  },
  {
   "cell_type": "markdown",
   "metadata": {},
   "source": [
    "Then, we define the model, object function and optimizer that we use to classify."
   ]
  },
  {
   "cell_type": "code",
   "execution_count": 4,
   "metadata": {},
   "outputs": [],
   "source": [
    "class SimpleNet(nn.Module):\n",
    "    # TODO:define model\n",
    "    def __init__(self):\n",
    "        super(SimpleNet, self).__init__()\n",
    "        self.conv = nn.Sequential(\n",
    "            nn.Conv2d(1, 8, 5, 2, 2),\n",
    "            nn.ReLU(),\n",
    "            nn.BatchNorm2d(8),\n",
    "            nn.Conv2d(8, 16, 5, 2, 2),\n",
    "            nn.ReLU(),\n",
    "            nn.BatchNorm2d(16),\n",
    "            nn.Conv2d(16, 32, 5, 2, 2),\n",
    "            nn.ReLU(),\n",
    "            nn.BatchNorm2d(32),\n",
    "        )\n",
    "        self.linear = nn.Linear(32*4*4, 10)\n",
    "        \n",
    "    def forward(self, input):\n",
    "        input = self.conv(input)\n",
    "        input = input.view(input.size(0), -1)\n",
    "        input = self.linear(input)\n",
    "        return input\n",
    "    \n",
    "\n",
    "    \n",
    "model = SimpleNet()\n",
    "\n",
    "# TODO:define loss function and optimiter\n",
    "criterion = nn.CrossEntropyLoss()\n",
    "optimizer = torch.optim.Adam(model.parameters())"
   ]
  },
  {
   "cell_type": "markdown",
   "metadata": {},
   "source": [
    "Next, we can start to train and evaluate!"
   ]
  },
  {
   "cell_type": "code",
   "execution_count": 5,
   "metadata": {
    "scrolled": true
   },
   "outputs": [
    {
     "name": "stderr",
     "output_type": "stream",
     "text": [
      "C:\\Users\\win8\\Anaconda3\\lib\\site-packages\\torch\\nn\\functional.py:52: UserWarning: size_average and reduce args will be deprecated, please use reduction='sum' instead.\n",
      "  warnings.warn(warning.format(ret))\n"
     ]
    },
    {
     "name": "stdout",
     "output_type": "stream",
     "text": [
      "epoch[1/10], test_loss: 0.368771, [52497/60000], train_accuracy: 87.495000%, [9050/10000], test_accuracy: 90.500000%\n",
      "epoch[2/10], test_loss: 0.520440, [55347/60000], train_accuracy: 92.245000%, [9420/10000], test_accuracy: 94.200000%\n",
      "epoch[3/10], test_loss: 0.371319, [56629/60000], train_accuracy: 94.381667%, [9536/10000], test_accuracy: 95.360000%\n",
      "epoch[4/10], test_loss: 0.613566, [57241/60000], train_accuracy: 95.401667%, [9677/10000], test_accuracy: 96.770000%\n",
      "epoch[5/10], test_loss: 0.786132, [57812/60000], train_accuracy: 96.353333%, [9556/10000], test_accuracy: 95.560000%\n",
      "epoch[6/10], test_loss: 0.673561, [57658/60000], train_accuracy: 96.096667%, [9670/10000], test_accuracy: 96.700000%\n",
      "epoch[7/10], test_loss: 0.670706, [58266/60000], train_accuracy: 97.110000%, [9742/10000], test_accuracy: 97.420000%\n",
      "epoch[8/10], test_loss: 0.802706, [58187/60000], train_accuracy: 96.978333%, [9723/10000], test_accuracy: 97.230000%\n",
      "epoch[9/10], test_loss: 0.966765, [58335/60000], train_accuracy: 97.225000%, [9608/10000], test_accuracy: 96.080000%\n",
      "epoch[10/10], test_loss: 1.134996, [58216/60000], train_accuracy: 97.026667%, [9742/10000], test_accuracy: 97.420000%\n"
     ]
    }
   ],
   "source": [
    "# train and evaluate\n",
    "step_all = NUM_EPOCHS*len(train_loader)\n",
    "for epoch in range(NUM_EPOCHS):\n",
    "    i = 0\n",
    "    correct = 0\n",
    "    total_num = 0\n",
    "    model.train()\n",
    "    for images, labels in train_loader:\n",
    "        # TODO:forward + backward + optimize\n",
    "        i += 1\n",
    "        step = epoch*len(train_loader) + i \n",
    "        output = model(images)\n",
    "        loss = criterion(output, labels.squeeze())\n",
    "        loss.backward()\n",
    "        optimizer.step()\n",
    "        #if(step%100==0):\n",
    "        #   print(\"step[{}/{}], loss: {:.6f}\".format(step, step_all, loss.item()))\n",
    "\n",
    "        output_label = output.data.max(1, keepdim=True)[1]\n",
    "        correct += output_label.eq(labels.view_as(output_label)).cpu().sum()\n",
    "        total_num += images.size(0)\n",
    "            \n",
    "    # evaluate\n",
    "    # TODO:calculate the accuracy using traning and testing dataset\n",
    "    train_accuracy = 100.*float(correct)/float(total_num)\n",
    "    correct_t = 0\n",
    "    total_num_t = 0\n",
    "    test_loss = 0.\n",
    "    model.eval()\n",
    "    for images, labels in test_loader:\n",
    "        # TODO:forward + backward + optimize\n",
    "        output = model(images)\n",
    "        output_label = output.data.max(1, keepdim=True)[1]\n",
    "        correct_t += output_label.eq(labels.view_as(output_label)).cpu().sum()\n",
    "        total_num_t += images.size(0)\n",
    "        test_loss += F.cross_entropy(output, labels.squeeze(), size_average=False).item() \n",
    "    \n",
    "    test_loss /= len(test_loader.dataset)\n",
    "    test_accuracy = 100.*float(correct_t)/float(total_num_t)\n",
    "    print(\"epoch[{}/{}], test_loss: {:.6f}, [{}/{}], train_accuracy: {:.6f}%, [{}/{}], test_accuracy: {:.6f}%\".format(epoch+1, NUM_EPOCHS, test_loss, correct, total_num, train_accuracy, correct_t, total_num_t, test_accuracy))\n",
    "    \n",
    "    \n"
   ]
  },
  {
   "cell_type": "markdown",
   "metadata": {},
   "source": [
    "#### Q5:\n",
    "Please print the training and testing accuracy."
   ]
  }
 ],
 "metadata": {
  "kernelspec": {
   "display_name": "Python 3",
   "language": "python",
   "name": "python3"
  },
  "language_info": {
   "codemirror_mode": {
    "name": "ipython",
    "version": 3
   },
   "file_extension": ".py",
   "mimetype": "text/x-python",
   "name": "python",
   "nbconvert_exporter": "python",
   "pygments_lexer": "ipython3",
   "version": "3.6.5"
  }
 },
 "nbformat": 4,
 "nbformat_minor": 2
}
